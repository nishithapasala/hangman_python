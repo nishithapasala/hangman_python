{
  "nbformat": 4,
  "nbformat_minor": 0,
  "metadata": {
    "colab": {
      "provenance": [],
      "authorship_tag": "ABX9TyMcmLyfiY4puqXaB//yisI7",
      "include_colab_link": true
    },
    "kernelspec": {
      "name": "python3",
      "display_name": "Python 3"
    },
    "language_info": {
      "name": "python"
    }
  },
  "cells": [
    {
      "cell_type": "markdown",
      "metadata": {
        "id": "view-in-github",
        "colab_type": "text"
      },
      "source": [
        "<a href=\"https://colab.research.google.com/github/nishithapasala/hangman_python/blob/main/hangman_using_python.ipynb\" target=\"_parent\"><img src=\"https://colab.research.google.com/assets/colab-badge.svg\" alt=\"Open In Colab\"/></a>"
      ]
    },
    {
      "cell_type": "code",
      "execution_count": 1,
      "metadata": {
        "colab": {
          "base_uri": "https://localhost:8080/"
        },
        "id": "AVQ_jpGWxw-k",
        "outputId": "19ec7d2d-c350-4b94-e2e4-830bbb215ce3"
      },
      "outputs": [
        {
          "output_type": "stream",
          "name": "stdout",
          "text": [
            "Welcome to Hangman\n",
            "Type yes/no if you are ready: yes\n",
            "GOOD LUCK!!\n",
            "_ _ _ _ _ \n",
            "guess a letter of the word: a\n",
            "_ a _ _ _ \n",
            "guess a letter of the word: p\n",
            "You typed the incorrect letter\n",
            "You have 4 left.\n",
            "_ a _ _ _ \n",
            "guess a letter of the word: b\n",
            "You typed the incorrect letter\n",
            "You have 3 left.\n",
            "_ a _ _ _ \n",
            "guess a letter of the word: m\n",
            "m a _ _ _ \n",
            "guess a letter of the word: n\n",
            "m a n _ _ \n",
            "guess a letter of the word: l\n",
            "You typed the incorrect letter\n",
            "You have 2 left.\n",
            "hint: its a fruit\n",
            "m a n _ _ \n",
            "guess a letter of the word: q\n",
            "You typed the incorrect letter\n",
            "You have 1 left.\n",
            "hint: its a fruit\n",
            "m a n _ _ \n",
            "guess a letter of the word: w\n",
            "You typed the incorrect letter\n",
            "You have 0 left.\n",
            "hint: its a fruit\n",
            "The man is Dead\n",
            "the word is:  mango\n"
          ]
        }
      ],
      "source": [
        "import random\n",
        "words=['apple','mango','banana','orange','strawberry','grapes','pineapple','muskmelon',\n",
        "       'rose','lily','lavender','sunflower','jasmine','lotus','hibiscus']\n",
        "print(\"Welcome to Hangman\")\n",
        "approval=input(\"Type yes/no if you are ready: \")\n",
        "if approval==\"Yes\" or approval==\"yes\" or approval==\"YESyes\":\n",
        "    print(\"GOOD LUCK!!\")\n",
        "    word=random.choice(words)\n",
        "    turns=5\n",
        "    guessed=''\n",
        "\n",
        "    while turns>0:\n",
        "        fail=0\n",
        "        for char in word:\n",
        "            if char in guessed:\n",
        "\n",
        "                print(char,end=' ')\n",
        "            else:\n",
        "\n",
        "                print('_',end=' ')\n",
        "                fail+=1\n",
        "        if fail==0:\n",
        "            print(\"\\nCongratulations!! you guessed the correct word\")\n",
        "            break\n",
        "\n",
        "        guess=input(\"\\nguess a letter of the word: \")\n",
        "        guessed+=guess\n",
        "        if guess not in word:\n",
        "            turns-=1\n",
        "            print(\"You typed the incorrect letter\")\n",
        "            print(\"You have\",+turns,\"left.\")\n",
        "            if word in ['apple', 'mango', 'banana', 'orange', 'strawberry', 'grapes', 'pineapple', 'muskmelon']:\n",
        "                if turns<=2:\n",
        "                    print(\"hint: its a fruit\")\n",
        "\n",
        "\n",
        "            else:\n",
        "                print(\"hint: its a flower\")\n",
        "\n",
        "            if turns==0:\n",
        "                print(\"The man is Dead\")\n",
        "                print(\"the word is: \",word)\n",
        "\n",
        "\n",
        "\n",
        "\n",
        "\n",
        "else:\n",
        "    print(\"no\")"
      ]
    }
  ]
}